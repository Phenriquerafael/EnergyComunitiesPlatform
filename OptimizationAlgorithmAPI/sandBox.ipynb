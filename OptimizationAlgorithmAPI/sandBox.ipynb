{
 "cells": [
  {
   "cell_type": "markdown",
   "id": "2f5c4961",
   "metadata": {},
   "source": [
    "# Libraries load "
   ]
  },
  {
   "cell_type": "code",
   "execution_count": 55,
   "id": "3af6410e",
   "metadata": {},
   "outputs": [],
   "source": [
    "import json\n",
    "from scipy.optimize import newton_krylov\n",
    "from pyomo.environ import SolverFactory, SolverManagerFactory\n",
    "from pyomo.environ import*\n",
    "import matplotlib.pyplot as plt\n",
    "import numpy as np\n",
    "import pandas as pd\n",
    "from pulp import LpVariable, LpMinimize, LpProblem, lpSum, value, GUROBI, GLPK_CMD\n",
    "import envs as en\n",
    "import pyomo.contrib.solver.ipopt\n",
    "import os\n",
    "from pyomo.environ import value\n",
    "\n",
    "from io import BytesIO\n",
    "from typing import List, Optional, Dict, Any\n",
    "from pydantic import BaseModel\n",
    "\n",
    "import requests"
   ]
  },
  {
   "cell_type": "markdown",
   "id": "ab5871e9",
   "metadata": {},
   "source": [
    "# Input file load\n"
   ]
  },
  {
   "cell_type": "code",
   "execution_count": 56,
   "id": "13b0b507",
   "metadata": {},
   "outputs": [
    {
     "data": {
      "text/plain": [
       "' input_file = \"DataSets/V3/sampledata4.xlsx\"\\n\\n# Spanish prosumer comunity example\\nprosumer_id_mapping = {\\n        0: \"abc1\",\\n        1: \"mnl2\",\\n        2: \"xyz3\",\\n        3: \"def4\",\\n        4: \"ghi5\"\\n    } '"
      ]
     },
     "execution_count": 56,
     "metadata": {},
     "output_type": "execute_result"
    }
   ],
   "source": [
    "\"\"\" input_file = \"DataSets/V3/sampledata4.xlsx\"\n",
    "\n",
    "# Spanish prosumer comunity example\n",
    "prosumer_id_mapping = {\n",
    "        0: \"abc1\",\n",
    "        1: \"mnl2\",\n",
    "        2: \"xyz3\",\n",
    "        3: \"def4\",\n",
    "        4: \"ghi5\"\n",
    "    } \"\"\""
   ]
  },
  {
   "cell_type": "markdown",
   "id": "8984236e",
   "metadata": {},
   "source": [
    "# Code Methods\n"
   ]
  },
  {
   "cell_type": "markdown",
   "id": "db1ae2ed",
   "metadata": {},
   "source": [
    "## Active atributes of a prosumer\n",
    "\n",
    "Contains a string which represents the prosumer identification and is associated with a key (integer number), and a boolean for each column of data that is activated (true / value =! 0) or deactivated (false/value==0).\n"
   ]
  },
  {
   "cell_type": "code",
   "execution_count": 57,
   "id": "f6681b91",
   "metadata": {},
   "outputs": [],
   "source": [
    "class ActiveAttribute(BaseModel):\n",
    "    prosumerId: str\n",
    "    profileLoad: bool\n",
    "    stateOfCharge: bool\n",
    "    photovoltaicEnergyLoad: bool"
   ]
  },
  {
   "cell_type": "markdown",
   "id": "c756afd4",
   "metadata": {},
   "source": [
    "## Load excel file\n",
    "\n",
    "    Load all sheets from an Excel file into a dictionary of DataFrames.\n",
    "    \n",
    "    Args:\n",
    "        file_path (str): Path to the Excel file.\n",
    "        \n",
    "    Returns:\n",
    "        Dict[str, pd.DataFrame]: Dictionary mapping sheet names to their DataFrames.\n",
    "        \n",
    "    Raises:\n",
    "        FileNotFoundError: If the file does not exist.\n",
    "        ValueError: If the file cannot be read or required sheets are missing."
   ]
  },
  {
   "cell_type": "code",
   "execution_count": 58,
   "id": "42961e4c",
   "metadata": {},
   "outputs": [],
   "source": [
    "def load_excel_file(file_path: str) -> Dict[str, pd.DataFrame]:\n",
    "\n",
    "    if not os.path.exists(file_path):\n",
    "        raise FileNotFoundError(f\"Excel file not found at: {file_path}\")\n",
    "    \n",
    "    try:\n",
    "        # Load all sheets\n",
    "        xl = pd.read_excel(file_path, sheet_name=None, engine='openpyxl')\n",
    "        required_sheets = ['PL', 'PPV_capacity']\n",
    "        for sheet in required_sheets:\n",
    "            if sheet not in xl:\n",
    "                raise ValueError(f\"Required sheet '{sheet}' not found in the Excel file.\")\n",
    "        return xl\n",
    "    except Exception as e:\n",
    "        raise ValueError(f\"Failed to read Excel file: {str(e)}\")"
   ]
  },
  {
   "cell_type": "markdown",
   "id": "fe66b2ca",
   "metadata": {},
   "source": [
    "## Print DataFrame\n",
    "\n",
    "    Prints each DataFram within a dictionary, identifying by the name of the key.\n",
    "    "
   ]
  },
  {
   "cell_type": "code",
   "execution_count": 59,
   "id": "d486b0a7",
   "metadata": {},
   "outputs": [],
   "source": [
    "from typing import Dict\n",
    "import pandas as pd\n",
    "\n",
    "def print_dataframes_dict(dataframes: Dict[str, pd.DataFrame]):\n",
    "    for name, df in dataframes.items():\n",
    "        print(f\"\\n=== DataFrame: {name} ===\")\n",
    "        print(df.head())  # ou apenas print(df) se quiser tudo\n"
   ]
  },
  {
   "cell_type": "markdown",
   "id": "f9de60ec",
   "metadata": {},
   "source": [
    "## Check zero columns\n",
    "\n",
    "    Check which columns in the specified DataFrame have all values equal to zero.\n",
    "    \n",
    "    Args:\n",
    "        df (pd.DataFrame): DataFrame of the sheet to check.\n",
    "        sheet_name (str): Name of the sheet ('PL' or 'PPV_capacity').\n",
    "        \n",
    "    Returns:\n",
    "        List[str]: List of column names with all values equal to zero.\n",
    "        \n",
    "    Raises:\n",
    "        ValueError: If the sheet name is invalid or columns are not found."
   ]
  },
  {
   "cell_type": "code",
   "execution_count": 60,
   "id": "cfbbabf9",
   "metadata": {},
   "outputs": [],
   "source": [
    "def check_zero_columns(df: pd.DataFrame, sheet_name: str) -> List[str]:\n",
    "\n",
    "    valid_columns = {\n",
    "        'PL': [col for col in df.columns if col.startswith('PL')],\n",
    "        'PPV_capacity': [col for col in df.columns if col.startswith('PV')]\n",
    "    }\n",
    "    \n",
    "    if sheet_name not in valid_columns:\n",
    "        raise ValueError(f\"Invalid sheet name: {sheet_name}. Must be 'PL' or 'PPV_capacity'.\")\n",
    "    \n",
    "    zero_columns = []\n",
    "    for col in valid_columns[sheet_name]:\n",
    "        if col in df.columns and (df[col] == 0).all():\n",
    "            zero_columns.append(col)\n",
    "    \n",
    "    return zero_columns"
   ]
  },
  {
   "cell_type": "markdown",
   "id": "6970096a",
   "metadata": {},
   "source": [
    "## Set Column to zero \n",
    "\n",
    "    Set all values in the specified column of the DataFrame to zero.\n",
    "    \n",
    "    Args:\n",
    "        df (pd.DataFrame): DataFrame of the sheet to modify.\n",
    "        sheet_name (str): Name of the sheet ('PL' or 'PPV_capacity').\n",
    "        column_name (str): Name of the column to set to zero (e.g., 'PL1', 'PV2').\n",
    "        \n",
    "    Returns:\n",
    "        pd.DataFrame: Modified DataFrame with the specified column set to zero.\n",
    "        \n",
    "    Raises:\n",
    "        ValueError: If the sheet name or column name is invalid."
   ]
  },
  {
   "cell_type": "code",
   "execution_count": 61,
   "id": "70969059",
   "metadata": {},
   "outputs": [],
   "source": [
    "def set_column_to_zero(df: pd.DataFrame, sheet_name: str, column_name: str) -> pd.DataFrame:\n",
    "\n",
    "    valid_columns = {\n",
    "        'PL': [col for col in df.columns if col.startswith('PL')],\n",
    "        'PPV_capacity': [col for col in df.columns if col.startswith('PV')]\n",
    "    }\n",
    "    \n",
    "    if sheet_name not in valid_columns:\n",
    "        raise ValueError(f\"Invalid sheet name: {sheet_name}. Must be 'PL' or 'PPV_capacity'.\")\n",
    "    \n",
    "    if column_name not in valid_columns[sheet_name]:\n",
    "        raise ValueError(f\"Invalid column name: {column_name}. Must be one of {valid_columns[sheet_name]}.\")\n",
    "    \n",
    "    if column_name not in df.columns:\n",
    "        raise ValueError(f\"Column {column_name} not found in sheet {sheet_name}.\")\n",
    "    \n",
    "    df[column_name] = 0\n",
    "    return df"
   ]
  },
  {
   "cell_type": "markdown",
   "id": "172c10a0",
   "metadata": {},
   "source": [
    "## Save excel file \n",
    "\n",
    "    Save the modified DataFrames back to an Excel file.\n",
    "    \n",
    "    Args:\n",
    "        sheets (Dict[str, pd.DataFrame]): Dictionary of sheet names and their DataFrames.\n",
    "        output_path (str): Path to save the modified Excel file.\n",
    "        \n",
    "    Raises:\n",
    "        ValueError: If saving the file fails.\n"
   ]
  },
  {
   "cell_type": "code",
   "execution_count": 62,
   "id": "88ceadd5",
   "metadata": {},
   "outputs": [],
   "source": [
    "def save_excel_file(sheets: Dict[str, pd.DataFrame], output_path: str) -> None:\n",
    "\n",
    "    try:\n",
    "        with pd.ExcelWriter(output_path, engine='openpyxl') as writer:\n",
    "            for sheet_name, df in sheets.items():\n",
    "                df.to_excel(writer, sheet_name=sheet_name, index=False)\n",
    "        print(f\"Excel file saved successfully to: {output_path}\")\n",
    "    except Exception as e:\n",
    "        raise ValueError(f\"Failed to save Excel file: {str(e)}\")"
   ]
  },
  {
   "cell_type": "markdown",
   "id": "c5c87ed4",
   "metadata": {},
   "source": [
    "## Generate active atributes\n",
    "  \n",
    "    Generate a list of ActiveAttribute objects based on zero columns in PL and PPV_capacity sheets,\n",
    "    using a predefined mapping of integer indices to prosumer IDs.\n",
    "    \n",
    "    Args:\n",
    "        sheets (Dict[str, pd.DataFrame]): Dictionary of sheet names and their DataFrames.\n",
    "        prosumer_id_mapping (Dict[int, str]): Mapping of integer indices (e.g., 0, 1) to prosumer IDs (e.g., 'abc1', 'mnl2').\n",
    "        \n",
    "    Returns:\n",
    "        List[ActiveAttribute]: List of ActiveAttribute objects with updated profileLoad and photovoltaicEnergyLoad.\n",
    "        \n",
    "    Raises:\n",
    "        ValueError: If required sheets are missing or invalid.\n",
    "   "
   ]
  },
  {
   "cell_type": "code",
   "execution_count": 63,
   "id": "7461e3ef",
   "metadata": {},
   "outputs": [],
   "source": [
    "\n",
    "\n",
    "def generate_active_attributes(sheets: Dict[int, pd.DataFrame], prosumer_id_mapping: Dict[int, str]) -> List[ActiveAttribute]:\n",
    "    # Check zero columns\n",
    "    pl_zero = check_zero_columns(sheets['PL'], 'PL')\n",
    "    ppv_zero = check_zero_columns(sheets['PPV_capacity'], 'PPV_capacity')\n",
    "    \n",
    "    active_attributes = []\n",
    "    for index, prosumer_id in prosumer_id_mapping.items():\n",
    "        # Convert index to column number (index 0 -> PL1, PV1)\n",
    "        col_number = index + 1\n",
    "        pl_column = f\"PL{col_number}\"\n",
    "        pv_column = f\"PV{col_number}\"\n",
    "        \n",
    "        # Set profileLoad to False if PL column is all zeros\n",
    "        profile_load = pl_column not in pl_zero if pl_column in sheets['PL'].columns else False\n",
    "        \n",
    "        # Set photovoltaicEnergyLoad to False if PV column is all zeros\n",
    "        pv_load = pv_column not in ppv_zero if pv_column in sheets['PPV_capacity'].columns else False\n",
    "        \n",
    "        # Assume stateOfCharge is True by default (can be modified based on ESS-Param if needed)\n",
    "        state_of_charge = True\n",
    "        \n",
    "        active_attribute = ActiveAttribute(\n",
    "            prosumerId=prosumer_id,\n",
    "            profileLoad=profile_load,\n",
    "            stateOfCharge=state_of_charge,\n",
    "            photovoltaicEnergyLoad=pv_load\n",
    "        )\n",
    "        active_attributes.append(active_attribute)\n",
    "    \n",
    "    return active_attributes"
   ]
  },
  {
   "cell_type": "markdown",
   "id": "23877cd5",
   "metadata": {},
   "source": [
    "## Main"
   ]
  },
  {
   "cell_type": "code",
   "execution_count": null,
   "id": "e35fc26f",
   "metadata": {},
   "outputs": [
    {
     "name": "stdout",
     "output_type": "stream",
     "text": [
      "Columns with all zero values in PL sheet: []\n",
      "Columns with all zero values in PPV_capacity sheet: ['PV3', 'PV4']\n",
      "Active Attributes:\n",
      "Prosumer abc1: profileLoad=True, stateOfCharge=True, photovoltaicEnergyLoad=True\n",
      "Prosumer mnl2: profileLoad=True, stateOfCharge=True, photovoltaicEnergyLoad=True\n",
      "Prosumer xyz3: profileLoad=True, stateOfCharge=True, photovoltaicEnergyLoad=False\n",
      "Prosumer def4: profileLoad=True, stateOfCharge=True, photovoltaicEnergyLoad=False\n",
      "Prosumer ghi5: profileLoad=True, stateOfCharge=True, photovoltaicEnergyLoad=True\n",
      "Set PL2 to zero successfully.\n",
      "\n",
      "Active Attributes:\n",
      "Prosumer abc1: profileLoad=False, stateOfCharge=True, photovoltaicEnergyLoad=True\n",
      "Prosumer mnl2: profileLoad=True, stateOfCharge=True, photovoltaicEnergyLoad=False\n",
      "Prosumer xyz3: profileLoad=True, stateOfCharge=True, photovoltaicEnergyLoad=False\n",
      "Prosumer def4: profileLoad=True, stateOfCharge=True, photovoltaicEnergyLoad=False\n",
      "Prosumer ghi5: profileLoad=True, stateOfCharge=True, photovoltaicEnergyLoad=True\n",
      "Excel file saved successfully to: modified_sampledata4.xlsx\n"
     ]
    }
   ],
   "source": [
    "def main():\n",
    "    # File paths\n",
    "    input_file = \"sampledata4.xlsx\"\n",
    "    output_file = \"modified_sampledata4.xlsx\"\n",
    "    \n",
    "    # Sample prosumer ID mapping with integer keys\n",
    "    prosumer_id_mapping = {\n",
    "        0: \"abc1\",\n",
    "        1: \"mnl2\",\n",
    "        2: \"xyz3\",\n",
    "        3: \"def4\",\n",
    "        4: \"ghi5\",\n",
    "    }\n",
    "    \n",
    "    # Load the Excel file\n",
    "    try:\n",
    "        sheets = load_excel_file(input_file)\n",
    "        #print_dataframes_dict(sheets)  # Print the loaded DataFrames\n",
    "    except Exception as e:\n",
    "        print(f\"Error loading file: {str(e)}\")\n",
    "        return\n",
    "    \n",
    "    # Check columns with all zero values in PL and PPV_capacity\n",
    "    try:\n",
    "        pl_zero = check_zero_columns(sheets['PL'], 'PL')\n",
    "        ppv_zero = check_zero_columns(sheets['PPV_capacity'], 'PPV_capacity')\n",
    "        \n",
    "        print(\"Columns with all zero values in PL sheet:\", pl_zero)\n",
    "        print(\"Columns with all zero values in PPV_capacity sheet:\", ppv_zero)\n",
    "    except ValueError as e:\n",
    "        print(f\"Error checking zero columns: {str(e)}\")\n",
    "        return\n",
    "    \n",
    "    # Generate active_attributes list\n",
    "    try:\n",
    "        active_attributes = generate_active_attributes(sheets, prosumer_id_mapping)\n",
    "        print(\"Active Attributes:\")\n",
    "        for attr in active_attributes:\n",
    "            print(f\"Prosumer {attr.prosumerId}: profileLoad={attr.profileLoad}, \"\n",
    "                  f\"stateOfCharge={attr.stateOfCharge}, photovoltaicEnergyLoad={attr.photovoltaicEnergyLoad}\")\n",
    "    except ValueError as e:\n",
    "        print(f\"Error generating active attributes: {str(e)}\")\n",
    "        return\n",
    "    \n",
    "    # Example: Set PL2 and PV2 to zero\n",
    "    try:\n",
    "        sheets['PL'] = set_column_to_zero(sheets['PL'], 'PL', 'PL1')\n",
    "        sheets['PPV_capacity'] = set_column_to_zero(sheets['PPV_capacity'], 'PPV_capacity', 'PV2')\n",
    "        print(\"Set PL2 to zero successfully.\")\n",
    "        active_attributes = generate_active_attributes(sheets, prosumer_id_mapping)\n",
    "        print(\"\\nNew Active Attributes:\")\n",
    "        for attr in active_attributes:\n",
    "            print(f\"Prosumer {attr.prosumerId}: profileLoad={attr.profileLoad}, \"\n",
    "                  f\"stateOfCharge={attr.stateOfCharge}, photovoltaicEnergyLoad={attr.photovoltaicEnergyLoad}\")\n",
    "    except ValueError as e:\n",
    "        print(f\"Error setting column to zero: {str(e)}\")\n",
    "        return\n",
    "    \n",
    "    # Save the modified Excel file\n",
    "    try:\n",
    "        save_excel_file(sheets, output_file)\n",
    "    except ValueError as e:\n",
    "        print(f\"Error saving file: {str(e)}\")\n",
    "        return\n",
    "\n",
    "if __name__ == \"__main__\":\n",
    "    main()"
   ]
  },
  {
   "cell_type": "code",
   "execution_count": null,
   "id": "18403055",
   "metadata": {},
   "outputs": [],
   "source": []
  }
 ],
 "metadata": {
  "kernelspec": {
   "display_name": ".venv (3.13.2)",
   "language": "python",
   "name": "python3"
  },
  "language_info": {
   "codemirror_mode": {
    "name": "ipython",
    "version": 3
   },
   "file_extension": ".py",
   "mimetype": "text/x-python",
   "name": "python",
   "nbconvert_exporter": "python",
   "pygments_lexer": "ipython3",
   "version": "3.13.2"
  }
 },
 "nbformat": 4,
 "nbformat_minor": 5
}
