{
 "cells": [
  {
   "cell_type": "markdown",
   "id": "2f5c4961",
   "metadata": {},
   "source": [
    "# Libraries load "
   ]
  },
  {
   "cell_type": "code",
   "execution_count": 12,
   "id": "3af6410e",
   "metadata": {},
   "outputs": [],
   "source": [
    "import json\n",
    "from scipy.optimize import newton_krylov\n",
    "from pyomo.environ import SolverFactory, SolverManagerFactory\n",
    "from pyomo.environ import*\n",
    "import matplotlib.pyplot as plt\n",
    "import numpy as np\n",
    "import pandas as pd\n",
    "from pulp import LpVariable, LpMinimize, LpProblem, lpSum, value, GUROBI, GLPK_CMD\n",
    "import envs as en\n",
    "import pyomo.contrib.solver.ipopt\n",
    "import os\n",
    "from pyomo.environ import value\n",
    "\n",
    "from io import BytesIO\n",
    "from typing import List, Optional, Dict, Any\n",
    "from pydantic import BaseModel\n",
    "\n",
    "import requests"
   ]
  },
  {
   "cell_type": "markdown",
   "id": "ab5871e9",
   "metadata": {},
   "source": [
    "# Input file load\n"
   ]
  },
  {
   "cell_type": "code",
   "execution_count": 13,
   "id": "13b0b507",
   "metadata": {},
   "outputs": [
    {
     "data": {
      "text/plain": [
       "' input_file = \"DataSets/V3/sampledata4.xlsx\"\\n\\n# Spanish prosumer comunity example\\nprosumer_id_mapping = {\\n        0: \"abc1\",\\n        1: \"mnl2\",\\n        2: \"xyz3\",\\n        3: \"def4\",\\n        4: \"ghi5\"\\n    } '"
      ]
     },
     "execution_count": 13,
     "metadata": {},
     "output_type": "execute_result"
    }
   ],
   "source": [
    "\"\"\" input_file = \"DataSets/V3/sampledata4.xlsx\"\n",
    "\n",
    "# Spanish prosumer comunity example\n",
    "prosumer_id_mapping = {\n",
    "        0: \"abc1\",\n",
    "        1: \"mnl2\",\n",
    "        2: \"xyz3\",\n",
    "        3: \"def4\",\n",
    "        4: \"ghi5\"\n",
    "    } \"\"\""
   ]
  },
  {
   "cell_type": "markdown",
   "id": "8984236e",
   "metadata": {},
   "source": [
    "# Code Methods\n"
   ]
  },
  {
   "cell_type": "markdown",
   "id": "db1ae2ed",
   "metadata": {},
   "source": [
    "## Active atributes of a prosumer\n",
    "\n",
    "Contains a string which represents the prosumer identification and is associated with a key (integer number), and a boolean for each column of data that is activated (true / value =! 0) or deactivated (false/value==0).\n"
   ]
  },
  {
   "cell_type": "code",
   "execution_count": 14,
   "id": "f6681b91",
   "metadata": {},
   "outputs": [],
   "source": [
    "class ActiveAttribute(BaseModel):\n",
    "    prosumerId: str\n",
    "    profileLoad: bool\n",
    "    stateOfCharge: bool\n",
    "    photovoltaicEnergyLoad: bool"
   ]
  },
  {
   "cell_type": "markdown",
   "id": "c756afd4",
   "metadata": {},
   "source": [
    "## Load excel file\n",
    "\n",
    "    Load all sheets from an Excel file into a dictionary of DataFrames.\n",
    "    \n",
    "    Args:\n",
    "        file_path (str): Path to the Excel file.\n",
    "        \n",
    "    Returns:\n",
    "        Dict[str, pd.DataFrame]: Dictionary mapping sheet names to their DataFrames.\n",
    "        \n",
    "    Raises:\n",
    "        FileNotFoundError: If the file does not exist.\n",
    "        ValueError: If the file cannot be read or required sheets are missing."
   ]
  },
  {
   "cell_type": "code",
   "execution_count": null,
   "id": "42961e4c",
   "metadata": {},
   "outputs": [
    {
     "ename": "",
     "evalue": "",
     "output_type": "error",
     "traceback": [
      "\u001b[1;31mThe Kernel crashed while executing code in the current cell or a previous cell. \n",
      "\u001b[1;31mPlease review the code in the cell(s) to identify a possible cause of the failure. \n",
      "\u001b[1;31mClick <a href='https://aka.ms/vscodeJupyterKernelCrash'>here</a> for more info. \n",
      "\u001b[1;31mView Jupyter <a href='command:jupyter.viewOutput'>log</a> for further details."
     ]
    }
   ],
   "source": [
    "def load_excel_file(file_path: str) -> Dict[str, pd.DataFrame]:\n",
    "\n",
    "    if not os.path.exists(file_path):\n",
    "        raise FileNotFoundError(f\"Excel file not found at: {file_path}\")\n",
    "    \n",
    "    try:\n",
    "        # Load all sheets\n",
    "        xl = pd.read_excel(file_path, sheet_name=None, engine='openpyxl')\n",
    "        required_sheets = ['PL', 'PPV_capacity']\n",
    "        for sheet in required_sheets:\n",
    "            if sheet not in xl:\n",
    "                raise ValueError(f\"Required sheet '{sheet}' not found in the Excel file.\")\n",
    "        return xl\n",
    "    except Exception as e:\n",
    "        raise ValueError(f\"Failed to read Excel file: {str(e)}\")"
   ]
  },
  {
   "cell_type": "code",
   "execution_count": null,
   "id": "8ff5d168",
   "metadata": {},
   "outputs": [],
   "source": [
    "\"\"\" def load_excel_file(file_path: str) -> Dict[str, pd.DataFrame]:\n",
    "    if not os.path.exists(file_path):\n",
    "        raise FileNotFoundError(f\"Excel file not found at: {file_path}\")\n",
    "    \n",
    "    try:\n",
    "        # Load all sheets\n",
    "        xl = pd.read_excel(file_path, sheet_name=None, engine='openpyxl')\n",
    "\n",
    "        # Validar existência das sheets obrigatórias\n",
    "        required_sheets = ['PL', 'PPV_capacity']\n",
    "        for sheet in required_sheets:\n",
    "            if sheet not in xl:\n",
    "                raise ValueError(f\"Required sheet '{sheet}' not found in the Excel file.\")\n",
    "        \n",
    "        # Validar colunas obrigatórias por sheet\n",
    "        required_columns = {\n",
    "            'PPV_capacity': ['Datetime', 'Value'],  # ajusta conforme o teu ficheiro\n",
    "            'PL': ['Datetime', 'PLValue']           # ajusta conforme o teu ficheiro\n",
    "        }\n",
    "\n",
    "        for sheet_name, expected_columns in required_columns.items():\n",
    "            df = xl[sheet_name]\n",
    "            missing_cols = [col for col in expected_columns if col not in df.columns]\n",
    "            if missing_cols:\n",
    "                raise ValueError(\n",
    "                    f\"Sheet '{sheet_name}' is missing required columns: {', '.join(missing_cols)}\"\n",
    "                )\n",
    "\n",
    "        return xl\n",
    "\n",
    "    except Exception as e:\n",
    "        raise ValueError(f\"Failed to read Excel file: {str(e)}\") \"\"\""
   ]
  },
  {
   "cell_type": "markdown",
   "id": "fe66b2ca",
   "metadata": {},
   "source": [
    "## Print DataFrame\n",
    "\n",
    "    Prints each DataFram within a dictionary, identifying by the name of the key.\n",
    "    "
   ]
  },
  {
   "cell_type": "code",
   "execution_count": 16,
   "id": "d486b0a7",
   "metadata": {},
   "outputs": [],
   "source": [
    "from typing import Dict\n",
    "import pandas as pd\n",
    "\n",
    "def print_dataframes_dict(dataframes: Dict[str, pd.DataFrame]):\n",
    "    for name, df in dataframes.items():\n",
    "        print(f\"\\n=== DataFrame: {name} ===\")\n",
    "        print(df.head())  # ou apenas print(df) se quiser tudo\n"
   ]
  },
  {
   "cell_type": "markdown",
   "id": "f9de60ec",
   "metadata": {},
   "source": [
    "## Check zero columns\n",
    "\n",
    "    Check which columns in the specified DataFrame have all values equal to zero.\n",
    "    \n",
    "    Args:\n",
    "        df (pd.DataFrame): DataFrame of the sheet to check.\n",
    "        sheet_name (str): Name of the sheet ('PL' or 'PPV_capacity').\n",
    "        \n",
    "    Returns:\n",
    "        List[str]: List of column names with all values equal to zero.\n",
    "        \n",
    "    Raises:\n",
    "        ValueError: If the sheet name is invalid or columns are not found."
   ]
  },
  {
   "cell_type": "code",
   "execution_count": 17,
   "id": "cfbbabf9",
   "metadata": {},
   "outputs": [],
   "source": [
    "def check_zero_columns(df: pd.DataFrame, sheet_name: str) -> List[str]:\n",
    "\n",
    "    valid_columns = {\n",
    "        'PL': [col for col in df.columns if col.startswith('PL')],\n",
    "        'PPV_capacity': [col for col in df.columns if col.startswith('PV')]\n",
    "    }\n",
    "    \n",
    "    if sheet_name not in valid_columns:\n",
    "        raise ValueError(f\"Invalid sheet name: {sheet_name}. Must be 'PL' or 'PPV_capacity'.\")\n",
    "    \n",
    "    zero_columns = []\n",
    "    for col in valid_columns[sheet_name]:\n",
    "        if col in df.columns and (df[col] == 0).all():\n",
    "            zero_columns.append(col)\n",
    "    \n",
    "    return zero_columns"
   ]
  },
  {
   "cell_type": "markdown",
   "id": "6970096a",
   "metadata": {},
   "source": [
    "## Set Column to zero \n",
    "\n",
    "    Set all values in the specified column of the DataFrame to zero.\n",
    "    \n",
    "    Args:\n",
    "        df (pd.DataFrame): DataFrame of the sheet to modify.\n",
    "        sheet_name (str): Name of the sheet ('PL' or 'PPV_capacity').\n",
    "        column_name (str): Name of the column to set to zero (e.g., 'PL1', 'PV2').\n",
    "        \n",
    "    Returns:\n",
    "        pd.DataFrame: Modified DataFrame with the specified column set to zero.\n",
    "        \n",
    "    Raises:\n",
    "        ValueError: If the sheet name or column name is invalid."
   ]
  },
  {
   "cell_type": "code",
   "execution_count": 18,
   "id": "70969059",
   "metadata": {},
   "outputs": [],
   "source": [
    "def set_column_to_zero(df: pd.DataFrame, sheet_name: str, column_name: str) -> pd.DataFrame:\n",
    "\n",
    "    valid_columns = {\n",
    "        'PL': [col for col in df.columns if col.startswith('PL')],\n",
    "        'PPV_capacity': [col for col in df.columns if col.startswith('PV')]\n",
    "    }\n",
    "    \n",
    "    if sheet_name not in valid_columns:\n",
    "        raise ValueError(f\"Invalid sheet name: {sheet_name}. Must be 'PL' or 'PPV_capacity'.\")\n",
    "    \n",
    "    if column_name not in valid_columns[sheet_name]:\n",
    "        raise ValueError(f\"Invalid column name: {column_name}. Must be one of {valid_columns[sheet_name]}.\")\n",
    "    \n",
    "    if column_name not in df.columns:\n",
    "        raise ValueError(f\"Column {column_name} not found in sheet {sheet_name}.\")\n",
    "    \n",
    "    df[column_name] = 0\n",
    "    return df"
   ]
  },
  {
   "cell_type": "markdown",
   "id": "172c10a0",
   "metadata": {},
   "source": [
    "## Save excel file \n",
    "\n",
    "    Save the modified DataFrames back to an Excel file.\n",
    "    \n",
    "    Args:\n",
    "        sheets (Dict[str, pd.DataFrame]): Dictionary of sheet names and their DataFrames.\n",
    "        Salva os DataFrames em diferentes folhas de um ficheiro Excel em memória e retorna um BytesIO.\n",
    "    \n",
    "        \n",
    "    Raises:\n",
    "        ValueError: If saving the file fails.\n"
   ]
  },
  {
   "cell_type": "code",
   "execution_count": 19,
   "id": "88ceadd5",
   "metadata": {},
   "outputs": [],
   "source": [
    "def save_excel_file(sheets: Dict[str, pd.DataFrame]) -> BytesIO:\n",
    "    output = BytesIO()\n",
    "    try:\n",
    "        with pd.ExcelWriter(output, engine='openpyxl') as writer:\n",
    "            for sheet_name, df in sheets.items():\n",
    "                df.to_excel(writer, sheet_name=sheet_name, index=False)\n",
    "        output.seek(0)  # Reposicionar o ponteiro no início do buffer\n",
    "        return output\n",
    "    except Exception as e:\n",
    "        raise ValueError(f\"Failed to save Excel file to memory: {str(e)}\")"
   ]
  },
  {
   "cell_type": "markdown",
   "id": "c5c87ed4",
   "metadata": {},
   "source": [
    "## Generate active atributes\n",
    "  \n",
    "     Update ActiveAttribute flags based on zero-columns in PL and PPV_capacity sheets,\n",
    "        and zero out columns for already inactive attributes.\n",
    "    \n",
    "    Args:\n",
    "        sheets (Dict[str, pd.DataFrame]): Dictionary of sheet names and their DataFrames.\n",
    "        prosumer_id_mapping (Dict[int, str]): Mapping of integer indices (e.g., 0, 1) to prosumer IDs (e.g., 'abc1', 'mnl2').\n",
    "        \n",
    "    Returns:\n",
    "        List[ActiveAttribute]: List of ActiveAttribute objects with updated profileLoad and photovoltaicEnergyLoad.\n",
    "        \n",
    "    Raises:\n",
    "        ValueError: If required sheets are missing or invalid.\n",
    "   "
   ]
  },
  {
   "cell_type": "code",
   "execution_count": 20,
   "id": "7461e3ef",
   "metadata": {},
   "outputs": [],
   "source": [
    "\n",
    "def generate_active_attributes(sheets: Dict[str, pd.DataFrame], active_attributes: List[ActiveAttribute]) -> List[ActiveAttribute]:\n",
    "\n",
    "    df_pl = sheets[\"PL\"]\n",
    "    df_pv = sheets[\"PPV_capacity\"]\n",
    "\n",
    "    # Step 1: Update attribute flags based on 100% zero columns\n",
    "    zero_pl_columns = check_zero_columns(df_pl, \"PL\")  # e.g., ['PL2']\n",
    "    zero_pv_columns = check_zero_columns(df_pv, \"PPV_capacity\")  # e.g., ['PV4']\n",
    "\n",
    "    for col in zero_pl_columns:\n",
    "        idx = int(col.replace(\"PL\", \"\"))\n",
    "        if 0 <= idx < len(active_attributes):\n",
    "            active_attributes[idx].profileLoad = False\n",
    "\n",
    "    for col in zero_pv_columns:\n",
    "        idx = int(col.replace(\"PV\", \"\"))\n",
    "        if 0 <= idx < len(active_attributes):\n",
    "            active_attributes[idx].photovoltaicEnergyLoad = False\n",
    "\n",
    "    # Step 2: For attributes already inactive, set corresponding columns to 0\n",
    "    for idx, attr in enumerate(active_attributes):\n",
    "        col_pl = f\"PL{idx}\"\n",
    "        col_pv = f\"PV{idx}\"\n",
    "\n",
    "        if not attr.profileLoad and col_pl in df_pl.columns:\n",
    "            df_pl = set_column_to_zero(df_pl, \"PL\", col_pl)\n",
    "\n",
    "        if not attr.photovoltaicEnergyLoad and col_pv in df_pv.columns:\n",
    "            df_pv = set_column_to_zero(df_pv, \"PPV_capacity\", col_pv)\n",
    "\n",
    "    # Update sheets with modified DataFrames\n",
    "    sheets[\"PL\"] = df_pl\n",
    "    sheets[\"PPV_capacity\"] = df_pv\n",
    "\n",
    "    return active_attributes"
   ]
  },
  {
   "cell_type": "markdown",
   "id": "23877cd5",
   "metadata": {},
   "source": [
    "## Main"
   ]
  },
  {
   "cell_type": "code",
   "execution_count": 21,
   "id": "e35fc26f",
   "metadata": {},
   "outputs": [
    {
     "name": "stdout",
     "output_type": "stream",
     "text": [
      "prosumerId='prosumer_0' profileLoad=True stateOfCharge=True photovoltaicEnergyLoad=True\n",
      "prosumerId='prosumer_1' profileLoad=False stateOfCharge=True photovoltaicEnergyLoad=True\n",
      "prosumerId='prosumer_2' profileLoad=True stateOfCharge=True photovoltaicEnergyLoad=True\n",
      "prosumerId='prosumer_3' profileLoad=True stateOfCharge=True photovoltaicEnergyLoad=False\n",
      "prosumerId='prosumer_4' profileLoad=True stateOfCharge=True photovoltaicEnergyLoad=False\n"
     ]
    }
   ],
   "source": [
    "def main():\n",
    "    file_path = \"sampledata4.xlsx\"  # path to your Excel file\n",
    "    sheets = load_excel_file(file_path)\n",
    "\n",
    "    # Create example ActiveAttribute list (should match number of PLx / PVx columns)\n",
    "    active_attributes = [\n",
    "        ActiveAttribute(prosumerId=f\"prosumer_{i}\", profileLoad=True, stateOfCharge=True, photovoltaicEnergyLoad=True)\n",
    "        for i in range(5)  # adjust to match your Excel columns\n",
    "    ]\n",
    "\n",
    "    active_attributes[1].profileLoad = False  # Example modification to one attribute\n",
    "\n",
    "    updated_attributes = generate_active_attributes(sheets, active_attributes)\n",
    "\n",
    "    # Show updated attributes\n",
    "    for attr in updated_attributes:\n",
    "        print(attr)\n",
    "\n",
    "    # Save updated sheets to BytesIO\n",
    "    output = save_excel_file(sheets)\n",
    "\n",
    "    # Optional: save to disk\n",
    "    with open(\"updated_output.xlsx\", \"wb\") as f:\n",
    "        f.write(output.read())\n",
    "\n",
    "if __name__ == \"__main__\":\n",
    "    main()"
   ]
  }
 ],
 "metadata": {
  "kernelspec": {
   "display_name": "Python 3",
   "language": "python",
   "name": "python3"
  },
  "language_info": {
   "codemirror_mode": {
    "name": "ipython",
    "version": 3
   },
   "file_extension": ".py",
   "mimetype": "text/x-python",
   "name": "python",
   "nbconvert_exporter": "python",
   "pygments_lexer": "ipython3",
   "version": "3.13.2"
  }
 },
 "nbformat": 4,
 "nbformat_minor": 5
}
